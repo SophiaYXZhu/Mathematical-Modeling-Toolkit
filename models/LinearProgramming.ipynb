{
 "cells": [
  {
   "cell_type": "markdown",
   "id": "20928d42",
   "metadata": {},
   "source": [
    "# Linear Programming Exercises"
   ]
  },
  {
   "cell_type": "code",
   "execution_count": 4,
   "id": "930bc614",
   "metadata": {},
   "outputs": [
    {
     "name": "stdout",
     "output_type": "stream",
     "text": [
      "[6.42857143 0.57142857 0.        ] -14.571428571428573\n"
     ]
    }
   ],
   "source": [
    "# Exercise 1\n",
    "import numpy as np\n",
    "from scipy import optimize as op\n",
    "x1=(0,7)\n",
    "x2=(0,7)\n",
    "x3=(0,7)\n",
    "c=np.array([-2,-3,5])\n",
    "A=np.array([[-2,5,-1],[1,3,1]])\n",
    "b=np.array([-10,12])\n",
    "A_eq=np.array([[1,1,1]]) \n",
    "b_eq=np.array([7]) \n",
    "res=op.linprog(c,A,b,A_eq,b_eq,bounds=(x1,x2,x3))\n",
    "print(res.x, res.fun)"
   ]
  },
  {
   "cell_type": "code",
   "execution_count": 3,
   "id": "99fc1db9",
   "metadata": {},
   "outputs": [
    {
     "name": "stdout",
     "output_type": "stream",
     "text": [
      "[0.8 1.8 0. ] 7.0\n"
     ]
    }
   ],
   "source": [
    "# Exercise 2\n",
    "import numpy as np\n",
    "from scipy import optimize as op\n",
    "x1 = (0, np.infty)\n",
    "x2 = (0, np.infty)\n",
    "x3 = (0, np.infty)\n",
    "c = np.array([2, 3, 1])\n",
    "A = np.array([[-1, -4, -2], [-3, -2, 0]])\n",
    "b = np.array([-8, -6])\n",
    "res = op.linprog(c, A, b, bounds = (x1, x2, x3))\n",
    "print(res.x, res.fun)"
   ]
  },
  {
   "cell_type": "code",
   "execution_count": 1,
   "id": "8f15771a",
   "metadata": {},
   "outputs": [
    {
     "name": "stdout",
     "output_type": "stream",
     "text": [
      "[2. 6.] -26.0\n"
     ]
    }
   ],
   "source": [
    "# HW 1\n",
    "import numpy as np\n",
    "from scipy import optimize as op\n",
    "x1=(0,np.infty)\n",
    "x2=(0,np.infty)\n",
    "c=np.array([-4, -3])\n",
    "A=np.array([[2, 1],[1, 1]])\n",
    "b=np.array([10, 8])\n",
    "res=op.linprog(c,A,b,bounds=(x1,x2))\n",
    "print(res.x, res.fun)"
   ]
  },
  {
   "cell_type": "code",
   "execution_count": 5,
   "id": "4ef164c1",
   "metadata": {},
   "outputs": [
    {
     "name": "stdout",
     "output_type": "stream",
     "text": [
      "[3. 3. 3.] 26.99999999999998\n"
     ]
    }
   ],
   "source": [
    "# HW 2\n",
    "import numpy as np\n",
    "from scipy import optimize as op\n",
    "fun=lambda x: x[0]**2 + x[1]**2 + x[2]**2\n",
    "bnds = [(0, None) for i in range(3)]\n",
    "cons = [{'type': 'ineq', 'fun': lambda x:  x[0] + x[1] + x[2] - 9}]\n",
    "res=op.minimize(fun,[0,0,0],bounds=bnds,constraints=cons)\n",
    "print(res.x, res.fun)"
   ]
  },
  {
   "cell_type": "code",
   "execution_count": 27,
   "id": "409dd8d7",
   "metadata": {},
   "outputs": [
    {
     "name": "stdout",
     "output_type": "stream",
     "text": [
      "[      0.               0.          190000.               0.\n",
      "       0.          130000.         1400000.         3600000.\n",
      " 1572222.22222222] -6892222.222222222\n"
     ]
    }
   ],
   "source": [
    "# HW 3-1\n",
    "import numpy as np\n",
    "from scipy import optimize as op\n",
    "# index 0 -> 农作物, index 1 -> 耕地\n",
    "x11=(0,np.infty)\n",
    "x12=(0,np.infty)\n",
    "x13=(0,np.infty)\n",
    "x21=(0,np.infty)\n",
    "x22=(0,np.infty)\n",
    "x23=(0,np.infty)\n",
    "x31=(0,np.infty)\n",
    "x32=(0,np.infty)\n",
    "x33=(0,np.infty)\n",
    "c=np.array([-1, -1, -1, -1, -1, -1, -1, -1, -1])\n",
    "A=np.array([[1/11000, 0, 0, 1/8000, 0, 0, 1/14000, 0, 0], [0, 1/9500, 0, 0, 1/6800, 0, 0, 1/12000, 0], \\\n",
    "            [0, 0, 1/9000, 0, 0, 1/6000, 0, 0, 1/10000], [-1, -1, -1, 0, 0, 0, 0, 0, 0], \\\n",
    "            [0, 0, 0, -1, -1, -1, 0, 0, 0], [0, 0, 0, 0, 0, 0, -1, -1, -1]])\n",
    "b=np.array([100, 300, 200, -190000, -130000, -350000])\n",
    "res=op.linprog(c,A,b,bounds=(x11, x12, x13, x21, x22, x23, x31, x32, x33))\n",
    "print(res.x, res.fun)"
   ]
  },
  {
   "cell_type": "code",
   "execution_count": 25,
   "id": "6410da92",
   "metadata": {},
   "outputs": [
    {
     "name": "stdout",
     "output_type": "stream",
     "text": [
      "[ 646250. 2850000. 1800000.  130000.       0.       0.  350000.       0.\n",
      "       0.] -6830500.0\n"
     ]
    }
   ],
   "source": [
    "# HW 3-2\n",
    "import numpy as np\n",
    "from scipy import optimize as op\n",
    "# index 0 -> 农作物, index 1 -> 耕地\n",
    "x11=(0,np.infty)\n",
    "x12=(0,np.infty)\n",
    "x13=(0,np.infty)\n",
    "x21=(0,np.infty)\n",
    "x22=(0,np.infty)\n",
    "x23=(0,np.infty)\n",
    "x31=(0,np.infty)\n",
    "x32=(0,np.infty)\n",
    "x33=(0,np.infty)\n",
    "c=np.array([-1.2, -1.2, -1.2, -1.5, -1.5, -1.5, -0.8, -0.8, -0.8])\n",
    "A=np.array([[1/11000, 0, 0, 1/8000, 0, 0, 1/14000, 0, 0], [0, 1/9500, 0, 0, 1/6800, 0, 0, 1/12000, 0], \\\n",
    "            [0, 0, 1/9000, 0, 0, 1/6000, 0, 0, 1/10000], [-1, -1, -1, 0, 0, 0, 0, 0, 0], \\\n",
    "            [0, 0, 0, -1, -1, -1, 0, 0, 0], [0, 0, 0, 0, 0, 0, -1, -1, -1]])\n",
    "b=np.array([100, 300, 200, -190000, -130000, -350000])\n",
    "res=op.linprog(c,A,b,bounds=(x11, x12, x13, x21, x22, x23, x31, x32, x33))\n",
    "print(res.x, res.fun)"
   ]
  }
 ],
 "metadata": {
  "kernelspec": {
   "display_name": "Python 3 (ipykernel)",
   "language": "python",
   "name": "python3"
  },
  "language_info": {
   "codemirror_mode": {
    "name": "ipython",
    "version": 3
   },
   "file_extension": ".py",
   "mimetype": "text/x-python",
   "name": "python",
   "nbconvert_exporter": "python",
   "pygments_lexer": "ipython3",
   "version": "3.10.9"
  }
 },
 "nbformat": 4,
 "nbformat_minor": 5
}
